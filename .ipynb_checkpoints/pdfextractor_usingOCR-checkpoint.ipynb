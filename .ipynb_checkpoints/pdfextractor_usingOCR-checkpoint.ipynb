{
 "cells": [
  {
   "cell_type": "code",
   "execution_count": null,
   "id": "d2fc6012",
   "metadata": {},
   "outputs": [],
   "source": [
    "!pip install pypdf2\n",
    "!pip install PyMuPDF"
   ]
  },
  {
   "cell_type": "markdown",
   "id": "d286bc99",
   "metadata": {},
   "source": [
    "### [1. OCR using PyPDF2]"
   ]
  },
  {
   "cell_type": "markdown",
   "id": "8fee2ee9",
   "metadata": {},
   "source": [
    "**1. Input PDF_FILE_PATH and keyword**"
   ]
  },
  {
   "cell_type": "code",
   "execution_count": 3,
   "id": "021e75c8",
   "metadata": {},
   "outputs": [
    {
     "name": "stdout",
     "output_type": "stream",
     "text": [
      "\"결제 서류\"is existing in the PDF file.\n"
     ]
    }
   ],
   "source": [
    "# test code\n",
    "from PyPDF2 import PdfReader\n",
    "\n",
    "PDF_FILE_PATH = r\"C:\\Users\\user\\Desktop\\sample\\sample.pdf\" # sample file path\n",
    "reader = PdfReader(PDF_FILE_PATH)\n",
    "pages = reader.pages\n",
    "text = \"\"\n",
    "keyword = \"결제 서류\"  # keyword\n",
    "\n",
    "for page in pages:\n",
    "    sub = page.extract_text()\n",
    "    if sub:  \n",
    "        text += sub\n",
    "\n",
    "# check keyword existence\n",
    "if keyword in text:\n",
    "    print(f'\"{keyword}\"is existing in the PDF file.')\n",
    "else:\n",
    "    print(f'\"{keyword}\"is not existing in the PDF file.')"
   ]
  },
  {
   "cell_type": "markdown",
   "id": "456d1ca2",
   "metadata": {},
   "source": [
    "**2. Run next cell if the keyword test was correct**"
   ]
  },
  {
   "cell_type": "code",
   "execution_count": 23,
   "id": "bb3d2b3c",
   "metadata": {},
   "outputs": [
    {
     "name": "stdout",
     "output_type": "stream",
     "text": [
      "Created: C:/Users/ballj/OneDrive/바탕 화면/result\\sample_이력서.pdf\n",
      "Keyword \"결제 서류\" found in C:/Users/ballj/OneDrive/바탕 화면/sample/sample.pdf\n",
      "Created: C:/Users/ballj/OneDrive/바탕 화면/result\\sample_이력서.pdf\n",
      "Keyword \"결제 서류\" found in C:/Users/ballj/OneDrive/바탕 화면/sample\\sample.pdf\n",
      "Created: C:/Users/ballj/OneDrive/바탕 화면/result\\sample2_이력서.pdf\n",
      "Keyword \"결제 서류\" found in C:/Users/ballj/OneDrive/바탕 화면/sample\\sample2.pdf\n"
     ]
    }
   ],
   "source": [
    "import tkinter as tk\n",
    "from tkinter import filedialog, simpledialog\n",
    "from PyPDF2 import PdfReader, PdfWriter\n",
    "import glob\n",
    "import os\n",
    "\n",
    "def find_keyword_end_page(pdf_path, keyword):\n",
    "    pdf_reader = PdfReader(pdf_path)\n",
    "    end_page = None\n",
    "    for i, page in enumerate(pdf_reader.pages):\n",
    "        text = page.extract_text()\n",
    "        if text and keyword in text:\n",
    "            end_page = i\n",
    "            break\n",
    "    return end_page\n",
    "\n",
    "def extract_pages(pdf_path, start_page, end_page, output_folder, output_prefix):\n",
    "    pdf_reader = PdfReader(pdf_path)\n",
    "    pdf_writer = PdfWriter()\n",
    "    fname = os.path.splitext(os.path.basename(pdf_path))[0]\n",
    "    output_filename = os.path.join(output_folder, f'{fname}_{output_prefix}.pdf')\n",
    "    for page in range(start_page - 1, min(end_page, len(pdf_reader.pages))):\n",
    "        pdf_writer.add_page(pdf_reader.pages[page])\n",
    "    with open(output_filename, 'wb') as out_file:\n",
    "        pdf_writer.write(out_file)\n",
    "    print(f'Created: {output_filename}')\n",
    "\n",
    "def process_pdf(pdf_path, output_folder, output_prefix, keyword):\n",
    "    end_page = find_keyword_end_page(pdf_path, keyword)\n",
    "    if end_page:\n",
    "        extract_pages(pdf_path, 1, end_page, output_folder, output_prefix)\n",
    "        print(f'Keyword \"{keyword}\" found in {pdf_path}')\n",
    "    else:\n",
    "        print(f'Keyword \"{keyword}\" not found in {pdf_path}')\n",
    "\n",
    "def extract_single_pdf():\n",
    "    pdf_path = filedialog.askopenfilename(title=\"Select PDF file\", filetypes=[(\"PDF files\", \"*.pdf\")])\n",
    "    if pdf_path:\n",
    "        output_folder = filedialog.askdirectory(title=\"Folder to save\")\n",
    "        if output_folder:\n",
    "            output_prefix = simpledialog.askstring(\"Input\", \"suffix of output file name:\")\n",
    "            keyword = simpledialog.askstring(\"Input\", \"Keyword :\")\n",
    "            if output_prefix and keyword:\n",
    "                process_pdf(pdf_path, output_folder, output_prefix, keyword)\n",
    "\n",
    "def extract_all_pdfs_in_folder():\n",
    "    folder_path = filedialog.askdirectory(title=\"Select PDF file\")\n",
    "    if folder_path:\n",
    "        output_folder = filedialog.askdirectory(title=\"Folder to save\")\n",
    "        if output_folder:\n",
    "            output_prefix = simpledialog.askstring(\"Input\", \"suffix of output file name:\")\n",
    "            keyword = simpledialog.askstring(\"Input\", \"Keyword to find :\")\n",
    "            if output_prefix and keyword:\n",
    "                pdf_files = glob.glob(os.path.join(folder_path, '*.pdf'))\n",
    "                for pdf_file in pdf_files:\n",
    "                    process_pdf(pdf_file, output_folder, output_prefix, keyword)\n",
    "\n",
    "def main():\n",
    "    root = tk.Tk()\n",
    "    root.title(\"PDF Keyword Page Extractor\")\n",
    "\n",
    "    extract_single_btn = tk.Button(root, text=\"Extract Pages from Single PDF by Keyword\", command=extract_single_pdf)\n",
    "    extract_single_btn.pack(pady=10)\n",
    "\n",
    "    extract_all_btn = tk.Button(root, text=\"Extract Pages from All PDFs in Folder by Keyword\", command=extract_all_pdfs_in_folder)\n",
    "    extract_all_btn.pack(pady=10)\n",
    "\n",
    "    root.mainloop()\n",
    "\n",
    "if __name__ == \"__main__\":\n",
    "    main()"
   ]
  },
  {
   "cell_type": "markdown",
   "id": "a7d56674",
   "metadata": {},
   "source": [
    "### [2. OCR using PyMuPDF]"
   ]
  },
  {
   "cell_type": "markdown",
   "id": "2c9658d3",
   "metadata": {},
   "source": [
    "**1. Input PDF_FILE_PATH and keyword**"
   ]
  },
  {
   "cell_type": "code",
   "execution_count": 2,
   "id": "73d72f48",
   "metadata": {},
   "outputs": [
    {
     "name": "stdout",
     "output_type": "stream",
     "text": [
      "\"2023.08.14\"is in 4 page of the pdf file\n"
     ]
    }
   ],
   "source": [
    "# test code\n",
    "import fitz  # PyMuPDF\n",
    "\n",
    "def search_keyword_in_pdf(pdf_path, keyword):\n",
    "    doc = fitz.open(pdf_path)\n",
    "    keyword_found = False\n",
    "\n",
    "    for page_num, page in enumerate(doc, start=1):\n",
    "        text = page.get_text()\n",
    "        if keyword in text:\n",
    "            print(f'\"{keyword}\"is in {page_num} page of the pdf file')\n",
    "            keyword_found = True\n",
    "            break  # break if keyword is found\n",
    "\n",
    "    if not keyword_found:\n",
    "        print(f'\"{keyword}\" is not existing in the PDF file')\n",
    "\n",
    "# test code\n",
    "PDF_FILE_PATH = r\"C:\\Users\\user\\Desktop\\sample\\sample.pdf\"\n",
    "keyword = \"2023.08.14\"\n",
    "search_keyword_in_pdf(PDF_FILE_PATH, keyword)"
   ]
  },
  {
   "cell_type": "code",
   "execution_count": null,
   "id": "9a93e68e",
   "metadata": {},
   "outputs": [
    {
     "name": "stdout",
     "output_type": "stream",
     "text": [
      "Keyword \"충원요청서\" not found in C:/Users/user/Desktop/sample\\sample.pdf\n",
      "Keyword \"충원요청서\" not found in C:/Users/user/Desktop/sample\\sample2.pdf\n"
     ]
    }
   ],
   "source": [
    "import tkinter as tk\n",
    "from tkinter import filedialog, simpledialog\n",
    "import fitz  # PyMuPDF\n",
    "import glob\n",
    "import os\n",
    "\n",
    "def find_keyword_end_page(pdf_path, keyword):\n",
    "    doc = fitz.open(pdf_path)\n",
    "    end_page = None\n",
    "    for i, page in enumerate(doc):\n",
    "        text = page.get_text()\n",
    "        if keyword in text:\n",
    "            end_page = i\n",
    "            break\n",
    "    doc.close()\n",
    "    return end_page\n",
    "\n",
    "def extract_pages(pdf_path, start_page, end_page, output_folder, output_prefix):\n",
    "    doc = fitz.open(pdf_path)\n",
    "    fname = os.path.splitext(os.path.basename(pdf_path))[0]\n",
    "    output_filename = os.path.join(output_folder, f'{fname}_{output_prefix}.pdf')\n",
    "    doc.select(range(start_page - 1, end_page))  # page range\n",
    "    doc.save(output_filename)\n",
    "    doc.close()\n",
    "    print(f'Created: {output_filename}')\n",
    "\n",
    "def process_pdf(pdf_path, output_folder, output_prefix, keyword):\n",
    "    end_page = find_keyword_end_page(pdf_path, keyword)\n",
    "    if end_page:\n",
    "        extract_pages(pdf_path, 1, end_page, output_folder, output_prefix)\n",
    "        print(f'Keyword \"{keyword}\" found in {pdf_path}')\n",
    "    else:\n",
    "        print(f'Keyword \"{keyword}\" not found in {pdf_path}')\n",
    "\n",
    "def extract_single_pdf():\n",
    "    pdf_path = filedialog.askopenfilename(title=\"Select PDF file\", filetypes=[(\"PDF files\", \"*.pdf\")])\n",
    "    if pdf_path:\n",
    "        output_folder = filedialog.askdirectory(title=\"Folder to save\")\n",
    "        if output_folder:\n",
    "            output_prefix = simpledialog.askstring(\"Input\", \"suffix of output file name:\")\n",
    "            keyword = simpledialog.askstring(\"Input\", \"Keyword :\")\n",
    "            if output_prefix and keyword:\n",
    "                process_pdf(pdf_path, output_folder, output_prefix, keyword)\n",
    "\n",
    "def extract_all_pdfs_in_folder():\n",
    "    folder_path = filedialog.askdirectory(title=\"Select PDF file\")\n",
    "    if folder_path:\n",
    "        output_folder = filedialog.askdirectory(title=\"Folder to save\")\n",
    "        if output_folder:\n",
    "            output_prefix = simpledialog.askstring(\"Input\", \"suffix of output file name:\")\n",
    "            keyword = simpledialog.askstring(\"Input\", \"Keyword to find:\")\n",
    "            if output_prefix and keyword:\n",
    "                pdf_files = glob.glob(os.path.join(folder_path, '*.pdf'))\n",
    "                for pdf_file in pdf_files:\n",
    "                    process_pdf(pdf_file, output_folder, output_prefix, keyword)\n",
    "\n",
    "\n",
    "def main():\n",
    "    root = tk.Tk()\n",
    "    root.title(\"PDF Keyword Page Extractor with PyMuPDF\")\n",
    "\n",
    "    extract_single_btn = tk.Button(root, text=\"Extract Pages from Single PDF by Keyword\", command=extract_single_pdf)\n",
    "    extract_single_btn.pack(pady=10)\n",
    "\n",
    "    extract_all_btn = tk.Button(root, text=\"Extract Pages from All PDFs in Folder by Keyword\", command=extract_all_pdfs_in_folder)\n",
    "    extract_all_btn.pack(pady=10)\n",
    "\n",
    "    root.mainloop()\n",
    "\n",
    "if __name__ == \"__main__\":\n",
    "    main()"
   ]
  },
  {
   "cell_type": "code",
   "execution_count": null,
   "id": "a5bf91ec",
   "metadata": {},
   "outputs": [],
   "source": []
  },
  {
   "cell_type": "code",
   "execution_count": null,
   "id": "c308fe15",
   "metadata": {},
   "outputs": [],
   "source": []
  },
  {
   "cell_type": "code",
   "execution_count": null,
   "id": "adcc5f99",
   "metadata": {},
   "outputs": [],
   "source": []
  },
  {
   "cell_type": "markdown",
   "id": "abf81056",
   "metadata": {},
   "source": [
    "### Extraction code using page num"
   ]
  },
  {
   "cell_type": "code",
   "execution_count": 42,
   "id": "88229089",
   "metadata": {},
   "outputs": [],
   "source": [
    "# import tkinter as tk\n",
    "# from tkinter import filedialog, simpledialog\n",
    "# from PyPDF2 import PdfReader, PdfWriter\n",
    "# import glob\n",
    "# import os\n",
    "\n",
    "# def extract_pages(pdf_path, start_page, end_page, output_folder, output_prefix):\n",
    "#     pdf_reader = PdfReader(pdf_path)\n",
    "#     pdf_writer = PdfWriter()\n",
    "#     fname = os.path.splitext(os.path.basename(pdf_path))[0]\n",
    "#     output_filename = os.path.join(output_folder, f'{output_prefix}_{fname}.pdf')\n",
    "#     for page in range(start_page - 1, end_page):\n",
    "#         pdf_writer.add_page(pdf_reader.pages[page])\n",
    "#     with open(output_filename, 'wb') as out_file:\n",
    "#         pdf_writer.write(out_file)\n",
    "#     print(f'Created: {output_filename}')\n",
    "\n",
    "# def extract_single_pdf():\n",
    "#     pdf_path = filedialog.askopenfilename(title=\"Select PDF file\", filetypes=[(\"PDF files\", \"*.pdf\")])\n",
    "#     if pdf_path:\n",
    "#         start_page = simpledialog.askinteger(\"Input\", \"Start page:\", minvalue=1)\n",
    "#         end_page = simpledialog.askinteger(\"Input\", \"End page:\", minvalue=start_page)\n",
    "#         output_folder = filedialog.askdirectory(title=\"Select Output Folder\")\n",
    "#         if output_folder:\n",
    "#             output_prefix = simpledialog.askstring(\"Input\", \"Output file prefix:\")\n",
    "#             if start_page and end_page and output_prefix:\n",
    "#                 extract_pages(pdf_path, start_page, end_page, output_folder, output_prefix)\n",
    "\n",
    "# def extract_all_pdfs_in_folder():\n",
    "#     folder_path = filedialog.askdirectory(title=\"Select Folder\")\n",
    "#     if folder_path:\n",
    "#         start_page = simpledialog.askinteger(\"Input\", \"Start page:\", minvalue=1)\n",
    "#         end_page = simpledialog.askinteger(\"Input\", \"End page:\", minvalue=start_page)\n",
    "#         output_folder = filedialog.askdirectory(title=\"Select Output Folder\")\n",
    "#         if output_folder:\n",
    "#             output_prefix = simpledialog.askstring(\"Input\", \"Output file prefix:\")\n",
    "#             if start_page and end_page and output_prefix is not None:\n",
    "#                 extract_pages_from_all_pdfs(folder_path, start_page, end_page, output_folder, output_prefix)\n",
    "\n",
    "# def extract_pages_from_all_pdfs(folder_path, start_page, end_page, output_folder, output_prefix):\n",
    "#     pdf_files = glob.glob(os.path.join(folder_path, '*.pdf'))\n",
    "#     for pdf_file in pdf_files:\n",
    "#         extract_pages(pdf_file, start_page, end_page, output_folder, output_prefix)\n",
    "\n",
    "# def main():\n",
    "#     root = tk.Tk()\n",
    "#     root.title(\"PDF Page Extractor\")\n",
    "\n",
    "#     extract_single_btn = tk.Button(root, text=\"Extract Pages from Single PDF\", command=extract_single_pdf)\n",
    "#     extract_single_btn.pack(pady=10)\n",
    "\n",
    "#     extract_all_btn = tk.Button(root, text=\"Extract Pages from All PDFs in Folder\", command=extract_all_pdfs_in_folder)\n",
    "#     extract_all_btn.pack(pady=10)\n",
    "\n",
    "#     root.mainloop()\n",
    "\n",
    "# if __name__ == \"__main__\":\n",
    "#     main()\n"
   ]
  }
 ],
 "metadata": {
  "kernelspec": {
   "display_name": "Python 3 (ipykernel)",
   "language": "python",
   "name": "python3"
  },
  "language_info": {
   "codemirror_mode": {
    "name": "ipython",
    "version": 3
   },
   "file_extension": ".py",
   "mimetype": "text/x-python",
   "name": "python",
   "nbconvert_exporter": "python",
   "pygments_lexer": "ipython3",
   "version": "3.11.5"
  }
 },
 "nbformat": 4,
 "nbformat_minor": 5
}
