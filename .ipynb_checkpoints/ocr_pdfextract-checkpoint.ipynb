{
 "cells": [
  {
   "cell_type": "code",
   "execution_count": 1,
   "id": "d4c3e1c3",
   "metadata": {},
   "outputs": [
    {
     "name": "stdout",
     "output_type": "stream",
     "text": [
      "Requirement already satisfied: pypdf2 in c:\\users\\user\\anaconda3\\lib\\site-packages (3.0.1)\n",
      "Requirement already satisfied: PyMuPDF in c:\\users\\user\\anaconda3\\lib\\site-packages (1.23.21)\n",
      "Collecting PyMuPDFb==1.23.9 (from PyMuPDF)\n",
      "  Obtaining dependency information for PyMuPDFb==1.23.9 from https://files.pythonhosted.org/packages/13/e9/bbe35512ed88b909d39140c3f554d6d1bbb704ccd6e5f25f4e54ba747e01/PyMuPDFb-1.23.9-py3-none-win_amd64.whl.metadata\n",
      "  Using cached PyMuPDFb-1.23.9-py3-none-win_amd64.whl.metadata (1.3 kB)\n",
      "Using cached PyMuPDFb-1.23.9-py3-none-win_amd64.whl (24.5 MB)\n",
      "Installing collected packages: PyMuPDFb\n",
      "  Attempting uninstall: PyMuPDFb\n",
      "    Found existing installation: PyMuPDFb 1.23.22\n",
      "    Uninstalling PyMuPDFb-1.23.22:\n",
      "      Successfully uninstalled PyMuPDFb-1.23.22\n",
      "Successfully installed PyMuPDFb-1.23.9\n"
     ]
    }
   ],
   "source": [
    "!pip install pypdf2\n",
    "!pip install PyMuPDF"
   ]
  },
  {
   "cell_type": "code",
   "execution_count": 2,
   "id": "d775f3f9",
   "metadata": {},
   "outputs": [
    {
     "name": "stdout",
     "output_type": "stream",
     "text": [
      "Keyword '충원요청서' not found in C:\\Users\\user\\Desktop\\sample\\결제서류_출석부__이력서.pdf, copied to C:\\Users\\user\\Desktop\\not_found\n",
      "Extracted pages up to 16 from C:\\Users\\user\\Desktop\\sample\\김다희(02514).pdf to C:\\Users\\user\\Desktop\\extract\\김다희(02514)_이력서.pdf\n",
      "Extracted pages from 16 to end from C:\\Users\\user\\Desktop\\sample\\김다희(02514).pdf to C:\\Users\\user\\Desktop\\etc\\김다희(02514)_충원요청서 체크리스트.pdf\n",
      "Keyword '충원요청서' not found in C:\\Users\\user\\Desktop\\sample\\김예리(01972).pdf, copied to C:\\Users\\user\\Desktop\\not_found\n"
     ]
    }
   ],
   "source": [
    "import tkinter as tk\n",
    "from tkinter import filedialog, simpledialog\n",
    "import fitz  # PyMuPDF\n",
    "import glob\n",
    "import os\n",
    "import shutil\n",
    "\n",
    "def find_keyword_end_page(pdf_path, keyword):\n",
    "    doc = fitz.open(pdf_path)\n",
    "    found_page = None  # 키워드 발견된 페이지 번호\n",
    "\n",
    "    for i, page in enumerate(doc):\n",
    "        text = page.get_text()\n",
    "        if keyword in text:\n",
    "            found_page = i\n",
    "            break\n",
    "            \n",
    "    doc.close()\n",
    "    return found_page\n",
    "\n",
    "def extract_pages_to_new_pdf(pdf_path, end_page, output_folder, output_suffix):\n",
    "    doc = fitz.open(pdf_path)\n",
    "    new_doc = fitz.open()\n",
    "    for page_num in range(end_page):\n",
    "        new_doc.insert_pdf(doc, from_page=page_num, to_page=page_num)\n",
    "    fname = os.path.splitext(os.path.basename(pdf_path))[0]\n",
    "    output_path = os.path.join(output_folder, f'{fname}_{output_suffix}.pdf')\n",
    "    new_doc.save(output_path)\n",
    "    new_doc.close()\n",
    "    doc.close()\n",
    "    print(f\"Extracted pages up to {end_page} from {pdf_path} to {output_path}\")\n",
    "\n",
    "def extract_remaining_pages_to_new_pdf(pdf_path, start_page, etc_folder, output_suffix):\n",
    "    doc = fitz.open(pdf_path)\n",
    "    new_doc = fitz.open()\n",
    "    for page_num in range(start_page, doc.page_count):\n",
    "        new_doc.insert_pdf(doc, from_page=page_num, to_page=page_num)\n",
    "    fname = os.path.splitext(os.path.basename(pdf_path))[0]\n",
    "    output_path = os.path.join(etc_folder, f'{fname}_{output_suffix}.pdf')\n",
    "    new_doc.save(output_path)\n",
    "    new_doc.close()\n",
    "    doc.close()\n",
    "    print(f\"Extracted pages from {start_page} to end from {pdf_path} to {output_path}\")\n",
    "\n",
    "def process_all_pdfs(input_folder, output_folder, not_found_folder, etc_folder, output_suffix_1, output_suffix_2, keyword):\n",
    "    pdf_files = glob.glob(os.path.join(input_folder, '*.pdf'))\n",
    "    for pdf_file in pdf_files:\n",
    "        found_page = find_keyword_end_page(pdf_file, keyword)\n",
    "        if found_page:\n",
    "            extract_pages_to_new_pdf(pdf_file, found_page, output_folder, output_suffix_1)\n",
    "            extract_remaining_pages_to_new_pdf(pdf_file, found_page, etc_folder, output_suffix_2)\n",
    "        else:\n",
    "            # 키워드가 발견되지 않은 경우, 파일을 not_found_folder로 복사\n",
    "            shutil.copy(pdf_file, os.path.join(not_found_folder, os.path.basename(pdf_file)))\n",
    "            print(f\"Keyword '{keyword}' not found in {pdf_file}, copied to {not_found_folder}\")\n",
    "\n",
    "# 경로와 키워드 설정\n",
    "input_folder = r\"C:\\Users\\user\\Desktop\\sample\"  # 원본 PDF 파일이 있는 폴더 경로\n",
    "output_folder = r\"C:\\Users\\user\\Desktop\\extract\"  # 이력서 파일을 저장할 폴더 경로\n",
    "etc_folder =  r\"C:\\Users\\user\\Desktop\\etc\" # 충원요청서 체크리스트 파일을 저장할 폴더 경로\n",
    "not_found_folder = r\"C:\\Users\\user\\Desktop\\not_found\" # 키워드 발견되지 않은 파일을 저장할 폴더 경로 (얘는 아마 수작업 필요)\n",
    "output_suffix_1 = '이력서'  # 출력 파일 접두사1\n",
    "output_suffix_2 = '충원요청서 체크리스트' # 출력 파일 접두사2\n",
    "keyword = '충원요청서'  # 검색할 키워드\n",
    "process_all_pdfs(input_folder, output_folder, not_found_folder, etc_folder, output_suffix_1, output_suffix_2, keyword)"
   ]
  }
 ],
 "metadata": {
  "kernelspec": {
   "display_name": "Python 3 (ipykernel)",
   "language": "python",
   "name": "python3"
  },
  "language_info": {
   "codemirror_mode": {
    "name": "ipython",
    "version": 3
   },
   "file_extension": ".py",
   "mimetype": "text/x-python",
   "name": "python",
   "nbconvert_exporter": "python",
   "pygments_lexer": "ipython3",
   "version": "3.11.5"
  }
 },
 "nbformat": 4,
 "nbformat_minor": 5
}
